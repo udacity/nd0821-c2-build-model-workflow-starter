{
 "cells": [
  {
   "cell_type": "markdown",
   "id": "d19ffc9f",
   "metadata": {},
   "source": [
    "# NYC Aribnb EDA notebook"
   ]
  },
  {
   "cell_type": "markdown",
   "id": "a36252b7",
   "metadata": {},
   "source": [
    "Importing the needed libraries"
   ]
  },
  {
   "cell_type": "code",
   "execution_count": 1,
   "id": "6b6b3409",
   "metadata": {},
   "outputs": [],
   "source": [
    "import wandb\n",
    "import pandas as pd\n",
    "import pandas_profiling"
   ]
  },
  {
   "cell_type": "markdown",
   "id": "4af89151",
   "metadata": {},
   "source": [
    "Download latest sample from wandb"
   ]
  },
  {
   "cell_type": "code",
   "execution_count": 2,
   "id": "c76c192b",
   "metadata": {},
   "outputs": [
    {
     "name": "stderr",
     "output_type": "stream",
     "text": [
      "\u001b[34m\u001b[1mwandb\u001b[0m: Currently logged in as: \u001b[33mvalerianomanassero\u001b[0m (use `wandb login --relogin` to force relogin)\n",
      "\u001b[34m\u001b[1mwandb\u001b[0m: wandb version 0.11.0 is available!  To upgrade, please run:\n",
      "\u001b[34m\u001b[1mwandb\u001b[0m:  $ pip install wandb --upgrade\n"
     ]
    },
    {
     "data": {
      "text/html": [
       "\n",
       "                Tracking run with wandb version 0.10.31<br/>\n",
       "                Syncing run <strong style=\"color:#cdcd00\">fresh-voice-2</strong> to <a href=\"https://wandb.ai\" target=\"_blank\">Weights & Biases</a> <a href=\"https://docs.wandb.com/integrations/jupyter.html\" target=\"_blank\">(Documentation)</a>.<br/>\n",
       "                Project page: <a href=\"https://wandb.ai/valerianomanassero/nyc_airbnb\" target=\"_blank\">https://wandb.ai/valerianomanassero/nyc_airbnb</a><br/>\n",
       "                Run page: <a href=\"https://wandb.ai/valerianomanassero/nyc_airbnb/runs/ylee9v3a\" target=\"_blank\">https://wandb.ai/valerianomanassero/nyc_airbnb/runs/ylee9v3a</a><br/>\n",
       "                Run data is saved locally in <code>/Users/valerianomanassero/GitHub/valeriano-manassero/nd0821-c2-build-model-workflow-starter/src/eda/wandb/run-20210728_093342-ylee9v3a</code><br/><br/>\n",
       "            "
      ],
      "text/plain": [
       "<IPython.core.display.HTML object>"
      ]
     },
     "metadata": {},
     "output_type": "display_data"
    }
   ],
   "source": [
    "run = wandb.init(project=\"nyc_airbnb\", group=\"eda\", save_code=True)\n",
    "local_path = wandb.use_artifact(\"sample.csv:latest\").file()\n",
    "df = pd.read_csv(local_path, index_col=\"id\")"
   ]
  },
  {
   "cell_type": "markdown",
   "id": "2e3e6dcd",
   "metadata": {},
   "source": [
    "Run the profiling procedure"
   ]
  },
  {
   "cell_type": "code",
   "execution_count": 3,
   "id": "865b154f",
   "metadata": {},
   "outputs": [
    {
     "data": {
      "application/vnd.jupyter.widget-view+json": {
       "model_id": "7e9f3badf8d440909342c81120dd1c90",
       "version_major": 2,
       "version_minor": 0
      },
      "text/plain": [
       "Summarize dataset:   0%|          | 0/29 [00:00<?, ?it/s]"
      ]
     },
     "metadata": {},
     "output_type": "display_data"
    },
    {
     "data": {
      "application/vnd.jupyter.widget-view+json": {
       "model_id": "845a38346b58409ca29adae6d7da2bcb",
       "version_major": 2,
       "version_minor": 0
      },
      "text/plain": [
       "Generate report structure:   0%|          | 0/1 [00:00<?, ?it/s]"
      ]
     },
     "metadata": {},
     "output_type": "display_data"
    },
    {
     "data": {
      "application/vnd.jupyter.widget-view+json": {
       "model_id": "",
       "version_major": 2,
       "version_minor": 0
      },
      "text/plain": [
       "Render widgets:   0%|          | 0/1 [00:00<?, ?it/s]"
      ]
     },
     "metadata": {},
     "output_type": "display_data"
    },
    {
     "data": {
      "application/vnd.jupyter.widget-view+json": {
       "model_id": "1590edb2b72c4a6ab2b1000fda686441",
       "version_major": 2,
       "version_minor": 0
      },
      "text/plain": [
       "VBox(children=(Tab(children=(Tab(children=(GridBox(children=(VBox(children=(GridspecLayout(children=(HTML(valu…"
      ]
     },
     "metadata": {},
     "output_type": "display_data"
    }
   ],
   "source": [
    "profile = pandas_profiling.ProfileReport(df)\n",
    "profile.to_widgets()"
   ]
  },
  {
   "cell_type": "markdown",
   "id": "067e7ec5",
   "metadata": {},
   "source": [
    "Remove outliers as requested"
   ]
  },
  {
   "cell_type": "code",
   "execution_count": 4,
   "id": "45f8fda8",
   "metadata": {},
   "outputs": [],
   "source": [
    "min_price = 10\n",
    "max_price = 350\n",
    "\n",
    "idx = df['price'].between(min_price, max_price)\n",
    "df = df[idx].copy()"
   ]
  },
  {
   "cell_type": "markdown",
   "id": "655ddbb8",
   "metadata": {},
   "source": [
    "Fix data type for last_reviews that have string in it"
   ]
  },
  {
   "cell_type": "code",
   "execution_count": 5,
   "id": "6d3f0311",
   "metadata": {},
   "outputs": [],
   "source": [
    "df['last_review'] = pd.to_datetime(df['last_review'])"
   ]
  },
  {
   "cell_type": "markdown",
   "id": "5c9d23ce",
   "metadata": {},
   "source": [
    "One more check on structure of the dataset after improvements"
   ]
  },
  {
   "cell_type": "code",
   "execution_count": 6,
   "id": "38898e3e",
   "metadata": {},
   "outputs": [
    {
     "name": "stdout",
     "output_type": "stream",
     "text": [
      "<class 'pandas.core.frame.DataFrame'>\n",
      "Int64Index: 19001 entries, 9138664 to 33631782\n",
      "Data columns (total 15 columns):\n",
      " #   Column                          Non-Null Count  Dtype         \n",
      "---  ------                          --------------  -----         \n",
      " 0   name                            18994 non-null  object        \n",
      " 1   host_id                         19001 non-null  int64         \n",
      " 2   host_name                       18993 non-null  object        \n",
      " 3   neighbourhood_group             19001 non-null  object        \n",
      " 4   neighbourhood                   19001 non-null  object        \n",
      " 5   latitude                        19001 non-null  float64       \n",
      " 6   longitude                       19001 non-null  float64       \n",
      " 7   room_type                       19001 non-null  object        \n",
      " 8   price                           19001 non-null  int64         \n",
      " 9   minimum_nights                  19001 non-null  int64         \n",
      " 10  number_of_reviews               19001 non-null  int64         \n",
      " 11  last_review                     15243 non-null  datetime64[ns]\n",
      " 12  reviews_per_month               15243 non-null  float64       \n",
      " 13  calculated_host_listings_count  19001 non-null  int64         \n",
      " 14  availability_365                19001 non-null  int64         \n",
      "dtypes: datetime64[ns](1), float64(3), int64(6), object(5)\n",
      "memory usage: 2.3+ MB\n"
     ]
    }
   ],
   "source": [
    "df.info()"
   ]
  },
  {
   "cell_type": "markdown",
   "id": "b81a84dc",
   "metadata": {},
   "source": [
    "Save the notebook on wandb"
   ]
  },
  {
   "cell_type": "code",
   "execution_count": 7,
   "id": "0f7740bd",
   "metadata": {},
   "outputs": [
    {
     "data": {
      "text/html": [
       "<br/>Waiting for W&B process to finish, PID 17998<br/>Program ended successfully."
      ],
      "text/plain": [
       "<IPython.core.display.HTML object>"
      ]
     },
     "metadata": {},
     "output_type": "display_data"
    },
    {
     "data": {
      "application/vnd.jupyter.widget-view+json": {
       "model_id": "",
       "version_major": 2,
       "version_minor": 0
      },
      "text/plain": [
       "VBox(children=(Label(value=' 0.03MB of 0.03MB uploaded (0.00MB deduped)\\r'), FloatProgress(value=1.0, max=1.0)…"
      ]
     },
     "metadata": {},
     "output_type": "display_data"
    },
    {
     "data": {
      "text/html": [
       "Find user logs for this run at: <code>/Users/valerianomanassero/GitHub/valeriano-manassero/nd0821-c2-build-model-workflow-starter/src/eda/wandb/run-20210728_093342-ylee9v3a/logs/debug.log</code>"
      ],
      "text/plain": [
       "<IPython.core.display.HTML object>"
      ]
     },
     "metadata": {},
     "output_type": "display_data"
    },
    {
     "data": {
      "text/html": [
       "Find internal logs for this run at: <code>/Users/valerianomanassero/GitHub/valeriano-manassero/nd0821-c2-build-model-workflow-starter/src/eda/wandb/run-20210728_093342-ylee9v3a/logs/debug-internal.log</code>"
      ],
      "text/plain": [
       "<IPython.core.display.HTML object>"
      ]
     },
     "metadata": {},
     "output_type": "display_data"
    },
    {
     "data": {
      "text/html": [
       "Synced 6 W&B file(s), 0 media file(s), 2 artifact file(s) and 1 other file(s)"
      ],
      "text/plain": [
       "<IPython.core.display.HTML object>"
      ]
     },
     "metadata": {},
     "output_type": "display_data"
    },
    {
     "data": {
      "text/html": [
       "\n",
       "                    <br/>Synced <strong style=\"color:#cdcd00\">fresh-voice-2</strong>: <a href=\"https://wandb.ai/valerianomanassero/nyc_airbnb/runs/ylee9v3a\" target=\"_blank\">https://wandb.ai/valerianomanassero/nyc_airbnb/runs/ylee9v3a</a><br/>\n",
       "                "
      ],
      "text/plain": [
       "<IPython.core.display.HTML object>"
      ]
     },
     "metadata": {},
     "output_type": "display_data"
    }
   ],
   "source": [
    "run.finish()"
   ]
  }
 ],
 "metadata": {
  "kernelspec": {
   "display_name": "Python 3 (ipykernel)",
   "language": "python",
   "name": "python3"
  },
  "language_info": {
   "codemirror_mode": {
    "name": "ipython",
    "version": 3
   },
   "file_extension": ".py",
   "mimetype": "text/x-python",
   "name": "python",
   "nbconvert_exporter": "python",
   "pygments_lexer": "ipython3",
   "version": "3.9.6"
  }
 },
 "nbformat": 4,
 "nbformat_minor": 5
}
